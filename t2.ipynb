{
 "cells": [
  {
   "cell_type": "code",
   "execution_count": 1,
   "metadata": {},
   "outputs": [],
   "source": [
    "import tensorflow as tf\n",
    "import pandas as pd"
   ]
  },
  {
   "cell_type": "code",
   "execution_count": 37,
   "metadata": {},
   "outputs": [
    {
     "data": {
      "text/plain": [
       "'1.12.0'"
      ]
     },
     "execution_count": 37,
     "metadata": {},
     "output_type": "execute_result"
    }
   ],
   "source": [
    "tf.__version__"
   ]
  },
  {
   "cell_type": "code",
   "execution_count": 2,
   "metadata": {},
   "outputs": [
    {
     "name": "stdout",
     "output_type": "stream",
     "text": [
      "(388319, 28)\n"
     ]
    },
    {
     "data": {
      "text/html": [
       "<div>\n",
       "<style scoped>\n",
       "    .dataframe tbody tr th:only-of-type {\n",
       "        vertical-align: middle;\n",
       "    }\n",
       "\n",
       "    .dataframe tbody tr th {\n",
       "        vertical-align: top;\n",
       "    }\n",
       "\n",
       "    .dataframe thead th {\n",
       "        text-align: right;\n",
       "    }\n",
       "</style>\n",
       "<table border=\"1\" class=\"dataframe\">\n",
       "  <thead>\n",
       "    <tr style=\"text-align: right;\">\n",
       "      <th></th>\n",
       "      <th>crew</th>\n",
       "      <th>experiment</th>\n",
       "      <th>time</th>\n",
       "      <th>seat</th>\n",
       "      <th>eeg_fp1</th>\n",
       "      <th>eeg_f7</th>\n",
       "      <th>eeg_f8</th>\n",
       "      <th>eeg_t4</th>\n",
       "      <th>eeg_t6</th>\n",
       "      <th>eeg_t5</th>\n",
       "      <th>...</th>\n",
       "      <th>eeg_c4</th>\n",
       "      <th>eeg_p4</th>\n",
       "      <th>eeg_poz</th>\n",
       "      <th>eeg_c3</th>\n",
       "      <th>eeg_cz</th>\n",
       "      <th>eeg_o2</th>\n",
       "      <th>ecg</th>\n",
       "      <th>r</th>\n",
       "      <th>gsr</th>\n",
       "      <th>event</th>\n",
       "    </tr>\n",
       "  </thead>\n",
       "  <tbody>\n",
       "    <tr>\n",
       "      <th>0</th>\n",
       "      <td>1</td>\n",
       "      <td>CA</td>\n",
       "      <td>0.011719</td>\n",
       "      <td>1</td>\n",
       "      <td>-5.28545</td>\n",
       "      <td>26.775801</td>\n",
       "      <td>-9.527310</td>\n",
       "      <td>-12.793200</td>\n",
       "      <td>16.717800</td>\n",
       "      <td>33.737499</td>\n",
       "      <td>...</td>\n",
       "      <td>37.368999</td>\n",
       "      <td>17.437599</td>\n",
       "      <td>19.201900</td>\n",
       "      <td>20.5968</td>\n",
       "      <td>-3.95115</td>\n",
       "      <td>14.507600</td>\n",
       "      <td>-4520.0</td>\n",
       "      <td>817.705994</td>\n",
       "      <td>388.829987</td>\n",
       "      <td>A</td>\n",
       "    </tr>\n",
       "    <tr>\n",
       "      <th>1</th>\n",
       "      <td>1</td>\n",
       "      <td>CA</td>\n",
       "      <td>0.015625</td>\n",
       "      <td>1</td>\n",
       "      <td>-2.42842</td>\n",
       "      <td>28.430901</td>\n",
       "      <td>-9.323510</td>\n",
       "      <td>-3.757230</td>\n",
       "      <td>15.969300</td>\n",
       "      <td>30.443600</td>\n",
       "      <td>...</td>\n",
       "      <td>31.170799</td>\n",
       "      <td>19.399700</td>\n",
       "      <td>19.689501</td>\n",
       "      <td>21.3547</td>\n",
       "      <td>1.33212</td>\n",
       "      <td>17.750200</td>\n",
       "      <td>-4520.0</td>\n",
       "      <td>817.705994</td>\n",
       "      <td>388.829987</td>\n",
       "      <td>A</td>\n",
       "    </tr>\n",
       "    <tr>\n",
       "      <th>2</th>\n",
       "      <td>1</td>\n",
       "      <td>CA</td>\n",
       "      <td>0.019531</td>\n",
       "      <td>1</td>\n",
       "      <td>10.67150</td>\n",
       "      <td>30.420200</td>\n",
       "      <td>15.350700</td>\n",
       "      <td>24.724001</td>\n",
       "      <td>16.143101</td>\n",
       "      <td>32.142799</td>\n",
       "      <td>...</td>\n",
       "      <td>-12.012600</td>\n",
       "      <td>19.396299</td>\n",
       "      <td>23.171700</td>\n",
       "      <td>22.4076</td>\n",
       "      <td>1.53786</td>\n",
       "      <td>22.247000</td>\n",
       "      <td>-4520.0</td>\n",
       "      <td>817.705994</td>\n",
       "      <td>388.829987</td>\n",
       "      <td>A</td>\n",
       "    </tr>\n",
       "    <tr>\n",
       "      <th>3</th>\n",
       "      <td>1</td>\n",
       "      <td>CA</td>\n",
       "      <td>0.023438</td>\n",
       "      <td>1</td>\n",
       "      <td>11.45250</td>\n",
       "      <td>25.609800</td>\n",
       "      <td>2.433080</td>\n",
       "      <td>12.412500</td>\n",
       "      <td>20.533300</td>\n",
       "      <td>31.494101</td>\n",
       "      <td>...</td>\n",
       "      <td>18.574100</td>\n",
       "      <td>23.156401</td>\n",
       "      <td>22.641199</td>\n",
       "      <td>19.3367</td>\n",
       "      <td>2.54492</td>\n",
       "      <td>18.998600</td>\n",
       "      <td>-4520.0</td>\n",
       "      <td>817.705994</td>\n",
       "      <td>388.829987</td>\n",
       "      <td>A</td>\n",
       "    </tr>\n",
       "    <tr>\n",
       "      <th>4</th>\n",
       "      <td>1</td>\n",
       "      <td>CA</td>\n",
       "      <td>0.027344</td>\n",
       "      <td>1</td>\n",
       "      <td>7.28321</td>\n",
       "      <td>25.942600</td>\n",
       "      <td>0.113564</td>\n",
       "      <td>5.748000</td>\n",
       "      <td>19.833599</td>\n",
       "      <td>28.753599</td>\n",
       "      <td>...</td>\n",
       "      <td>6.555440</td>\n",
       "      <td>22.754700</td>\n",
       "      <td>22.670300</td>\n",
       "      <td>20.2932</td>\n",
       "      <td>1.69962</td>\n",
       "      <td>22.812799</td>\n",
       "      <td>-4520.0</td>\n",
       "      <td>817.705994</td>\n",
       "      <td>388.829987</td>\n",
       "      <td>A</td>\n",
       "    </tr>\n",
       "  </tbody>\n",
       "</table>\n",
       "<p>5 rows × 28 columns</p>\n",
       "</div>"
      ],
      "text/plain": [
       "   crew experiment      time  seat   eeg_fp1     eeg_f7     eeg_f8     eeg_t4  \\\n",
       "0     1         CA  0.011719     1  -5.28545  26.775801  -9.527310 -12.793200   \n",
       "1     1         CA  0.015625     1  -2.42842  28.430901  -9.323510  -3.757230   \n",
       "2     1         CA  0.019531     1  10.67150  30.420200  15.350700  24.724001   \n",
       "3     1         CA  0.023438     1  11.45250  25.609800   2.433080  12.412500   \n",
       "4     1         CA  0.027344     1   7.28321  25.942600   0.113564   5.748000   \n",
       "\n",
       "      eeg_t6     eeg_t5  ...       eeg_c4     eeg_p4    eeg_poz   eeg_c3  \\\n",
       "0  16.717800  33.737499  ...    37.368999  17.437599  19.201900  20.5968   \n",
       "1  15.969300  30.443600  ...    31.170799  19.399700  19.689501  21.3547   \n",
       "2  16.143101  32.142799  ...   -12.012600  19.396299  23.171700  22.4076   \n",
       "3  20.533300  31.494101  ...    18.574100  23.156401  22.641199  19.3367   \n",
       "4  19.833599  28.753599  ...     6.555440  22.754700  22.670300  20.2932   \n",
       "\n",
       "    eeg_cz     eeg_o2     ecg           r         gsr  event  \n",
       "0 -3.95115  14.507600 -4520.0  817.705994  388.829987      A  \n",
       "1  1.33212  17.750200 -4520.0  817.705994  388.829987      A  \n",
       "2  1.53786  22.247000 -4520.0  817.705994  388.829987      A  \n",
       "3  2.54492  18.998600 -4520.0  817.705994  388.829987      A  \n",
       "4  1.69962  22.812799 -4520.0  817.705994  388.829987      A  \n",
       "\n",
       "[5 rows x 28 columns]"
      ]
     },
     "execution_count": 2,
     "metadata": {},
     "output_type": "execute_result"
    }
   ],
   "source": [
    "train_csv = '../dataset/train2.csv'\n",
    "train_file = pd.read_csv(train_csv)\n",
    "print(train_file.shape)\n",
    "train_file.head()"
   ]
  },
  {
   "cell_type": "code",
   "execution_count": 3,
   "metadata": {},
   "outputs": [
    {
     "data": {
      "text/plain": [
       "crew            int64\n",
       "experiment     object\n",
       "time          float64\n",
       "seat            int64\n",
       "eeg_fp1       float64\n",
       "eeg_f7        float64\n",
       "eeg_f8        float64\n",
       "eeg_t4        float64\n",
       "eeg_t6        float64\n",
       "eeg_t5        float64\n",
       "eeg_t3        float64\n",
       "eeg_fp2       float64\n",
       "eeg_o1        float64\n",
       "eeg_p3        float64\n",
       "eeg_pz        float64\n",
       "eeg_f3        float64\n",
       "eeg_fz        float64\n",
       "eeg_f4        float64\n",
       "eeg_c4        float64\n",
       "eeg_p4        float64\n",
       "eeg_poz       float64\n",
       "eeg_c3        float64\n",
       "eeg_cz        float64\n",
       "eeg_o2        float64\n",
       "ecg           float64\n",
       "r             float64\n",
       "gsr           float64\n",
       "event          object\n",
       "dtype: object"
      ]
     },
     "execution_count": 3,
     "metadata": {},
     "output_type": "execute_result"
    }
   ],
   "source": [
    "train_file.dtypes"
   ]
  },
  {
   "cell_type": "code",
   "execution_count": 10,
   "metadata": {},
   "outputs": [
    {
     "data": {
      "text/plain": [
       "28"
      ]
     },
     "execution_count": 10,
     "metadata": {},
     "output_type": "execute_result"
    }
   ],
   "source": [
    "len(train_file.columns)"
   ]
  },
  {
   "cell_type": "code",
   "execution_count": 4,
   "metadata": {},
   "outputs": [],
   "source": [
    "tf.enable_eager_execution()"
   ]
  },
  {
   "cell_type": "code",
   "execution_count": 29,
   "metadata": {},
   "outputs": [],
   "source": [
    "record_defaults= [tf.float32]*24 + [tf.string]\n",
    "cols = [2] + list(range(4,28))\n",
    "dataset = tf.data.experimental.CsvDataset(train_csv, record_defaults, header=True, select_cols=cols)\n",
    "dataset = dataset.map(lambda *x: (x[:-2], x[-1]))"
   ]
  },
  {
   "cell_type": "code",
   "execution_count": 30,
   "metadata": {},
   "outputs": [
    {
     "name": "stdout",
     "output_type": "stream",
     "text": [
      "((<tf.Tensor: id=2457, shape=(), dtype=float32, numpy=0.01171875>, <tf.Tensor: id=2458, shape=(), dtype=float32, numpy=-5.28545>, <tf.Tensor: id=2459, shape=(), dtype=float32, numpy=26.7758>, <tf.Tensor: id=2460, shape=(), dtype=float32, numpy=-9.52731>, <tf.Tensor: id=2461, shape=(), dtype=float32, numpy=-12.7932>, <tf.Tensor: id=2462, shape=(), dtype=float32, numpy=16.7178>, <tf.Tensor: id=2463, shape=(), dtype=float32, numpy=33.7375>, <tf.Tensor: id=2464, shape=(), dtype=float32, numpy=23.7123>, <tf.Tensor: id=2465, shape=(), dtype=float32, numpy=-6.69587>, <tf.Tensor: id=2466, shape=(), dtype=float32, numpy=29.2321>, <tf.Tensor: id=2467, shape=(), dtype=float32, numpy=24.8429>, <tf.Tensor: id=2468, shape=(), dtype=float32, numpy=3.92134>, <tf.Tensor: id=2469, shape=(), dtype=float32, numpy=18.447>, <tf.Tensor: id=2470, shape=(), dtype=float32, numpy=1.07547>, <tf.Tensor: id=2471, shape=(), dtype=float32, numpy=3.09029>, <tf.Tensor: id=2472, shape=(), dtype=float32, numpy=37.369>, <tf.Tensor: id=2473, shape=(), dtype=float32, numpy=17.4376>, <tf.Tensor: id=2474, shape=(), dtype=float32, numpy=19.2019>, <tf.Tensor: id=2475, shape=(), dtype=float32, numpy=20.5968>, <tf.Tensor: id=2476, shape=(), dtype=float32, numpy=-3.95115>, <tf.Tensor: id=2477, shape=(), dtype=float32, numpy=14.5076>, <tf.Tensor: id=2478, shape=(), dtype=float32, numpy=-4520.0>, <tf.Tensor: id=2479, shape=(), dtype=float32, numpy=817.706>), <tf.Tensor: id=2480, shape=(), dtype=string, numpy=b'A'>)\n",
      "((<tf.Tensor: id=2505, shape=(), dtype=float32, numpy=0.015625>, <tf.Tensor: id=2506, shape=(), dtype=float32, numpy=-2.42842>, <tf.Tensor: id=2507, shape=(), dtype=float32, numpy=28.4309>, <tf.Tensor: id=2508, shape=(), dtype=float32, numpy=-9.32351>, <tf.Tensor: id=2509, shape=(), dtype=float32, numpy=-3.75723>, <tf.Tensor: id=2510, shape=(), dtype=float32, numpy=15.9693>, <tf.Tensor: id=2511, shape=(), dtype=float32, numpy=30.4436>, <tf.Tensor: id=2512, shape=(), dtype=float32, numpy=21.0103>, <tf.Tensor: id=2513, shape=(), dtype=float32, numpy=-6.47472>, <tf.Tensor: id=2514, shape=(), dtype=float32, numpy=26.6414>, <tf.Tensor: id=2515, shape=(), dtype=float32, numpy=24.1388>, <tf.Tensor: id=2516, shape=(), dtype=float32, numpy=5.46991>, <tf.Tensor: id=2517, shape=(), dtype=float32, numpy=20.5106>, <tf.Tensor: id=2518, shape=(), dtype=float32, numpy=2.83354>, <tf.Tensor: id=2519, shape=(), dtype=float32, numpy=7.10177>, <tf.Tensor: id=2520, shape=(), dtype=float32, numpy=31.1708>, <tf.Tensor: id=2521, shape=(), dtype=float32, numpy=19.3997>, <tf.Tensor: id=2522, shape=(), dtype=float32, numpy=19.6895>, <tf.Tensor: id=2523, shape=(), dtype=float32, numpy=21.3547>, <tf.Tensor: id=2524, shape=(), dtype=float32, numpy=1.33212>, <tf.Tensor: id=2525, shape=(), dtype=float32, numpy=17.7502>, <tf.Tensor: id=2526, shape=(), dtype=float32, numpy=-4520.0>, <tf.Tensor: id=2527, shape=(), dtype=float32, numpy=817.706>), <tf.Tensor: id=2528, shape=(), dtype=string, numpy=b'A'>)\n",
      "((<tf.Tensor: id=2553, shape=(), dtype=float32, numpy=0.01953125>, <tf.Tensor: id=2554, shape=(), dtype=float32, numpy=10.6715>, <tf.Tensor: id=2555, shape=(), dtype=float32, numpy=30.4202>, <tf.Tensor: id=2556, shape=(), dtype=float32, numpy=15.3507>, <tf.Tensor: id=2557, shape=(), dtype=float32, numpy=24.724>, <tf.Tensor: id=2558, shape=(), dtype=float32, numpy=16.1431>, <tf.Tensor: id=2559, shape=(), dtype=float32, numpy=32.1428>, <tf.Tensor: id=2560, shape=(), dtype=float32, numpy=25.4318>, <tf.Tensor: id=2561, shape=(), dtype=float32, numpy=-0.088707>, <tf.Tensor: id=2562, shape=(), dtype=float32, numpy=28.1199>, <tf.Tensor: id=2563, shape=(), dtype=float32, numpy=26.8913>, <tf.Tensor: id=2564, shape=(), dtype=float32, numpy=8.57886>, <tf.Tensor: id=2565, shape=(), dtype=float32, numpy=23.1629>, <tf.Tensor: id=2566, shape=(), dtype=float32, numpy=4.51993>, <tf.Tensor: id=2567, shape=(), dtype=float32, numpy=12.7055>, <tf.Tensor: id=2568, shape=(), dtype=float32, numpy=-12.0126>, <tf.Tensor: id=2569, shape=(), dtype=float32, numpy=19.3963>, <tf.Tensor: id=2570, shape=(), dtype=float32, numpy=23.1717>, <tf.Tensor: id=2571, shape=(), dtype=float32, numpy=22.4076>, <tf.Tensor: id=2572, shape=(), dtype=float32, numpy=1.53786>, <tf.Tensor: id=2573, shape=(), dtype=float32, numpy=22.247>, <tf.Tensor: id=2574, shape=(), dtype=float32, numpy=-4520.0>, <tf.Tensor: id=2575, shape=(), dtype=float32, numpy=817.706>), <tf.Tensor: id=2576, shape=(), dtype=string, numpy=b'A'>)\n",
      "((<tf.Tensor: id=2601, shape=(), dtype=float32, numpy=0.0234375>, <tf.Tensor: id=2602, shape=(), dtype=float32, numpy=11.4525>, <tf.Tensor: id=2603, shape=(), dtype=float32, numpy=25.6098>, <tf.Tensor: id=2604, shape=(), dtype=float32, numpy=2.43308>, <tf.Tensor: id=2605, shape=(), dtype=float32, numpy=12.4125>, <tf.Tensor: id=2606, shape=(), dtype=float32, numpy=20.5333>, <tf.Tensor: id=2607, shape=(), dtype=float32, numpy=31.4941>, <tf.Tensor: id=2608, shape=(), dtype=float32, numpy=19.1428>, <tf.Tensor: id=2609, shape=(), dtype=float32, numpy=-0.256516>, <tf.Tensor: id=2610, shape=(), dtype=float32, numpy=30.6536>, <tf.Tensor: id=2611, shape=(), dtype=float32, numpy=24.247>, <tf.Tensor: id=2612, shape=(), dtype=float32, numpy=8.6431>, <tf.Tensor: id=2613, shape=(), dtype=float32, numpy=19.9619>, <tf.Tensor: id=2614, shape=(), dtype=float32, numpy=7.27575>, <tf.Tensor: id=2615, shape=(), dtype=float32, numpy=11.4598>, <tf.Tensor: id=2616, shape=(), dtype=float32, numpy=18.5741>, <tf.Tensor: id=2617, shape=(), dtype=float32, numpy=23.1564>, <tf.Tensor: id=2618, shape=(), dtype=float32, numpy=22.6412>, <tf.Tensor: id=2619, shape=(), dtype=float32, numpy=19.3367>, <tf.Tensor: id=2620, shape=(), dtype=float32, numpy=2.54492>, <tf.Tensor: id=2621, shape=(), dtype=float32, numpy=18.9986>, <tf.Tensor: id=2622, shape=(), dtype=float32, numpy=-4520.0>, <tf.Tensor: id=2623, shape=(), dtype=float32, numpy=817.706>), <tf.Tensor: id=2624, shape=(), dtype=string, numpy=b'A'>)\n"
     ]
    }
   ],
   "source": [
    "i = 0\n",
    "for e in dataset:\n",
    "    print(e)\n",
    "    if i>2:\n",
    "        break\n",
    "    i += 1"
   ]
  },
  {
   "cell_type": "code",
   "execution_count": 36,
   "metadata": {},
   "outputs": [
    {
     "data": {
      "text/plain": [
       "(TensorShape([]),\n",
       " TensorShape([]),\n",
       " TensorShape([]),\n",
       " TensorShape([]),\n",
       " TensorShape([]),\n",
       " TensorShape([]),\n",
       " TensorShape([]),\n",
       " TensorShape([]),\n",
       " TensorShape([]),\n",
       " TensorShape([]),\n",
       " TensorShape([]),\n",
       " TensorShape([]),\n",
       " TensorShape([]),\n",
       " TensorShape([]),\n",
       " TensorShape([]),\n",
       " TensorShape([]),\n",
       " TensorShape([]),\n",
       " TensorShape([]),\n",
       " TensorShape([]),\n",
       " TensorShape([]),\n",
       " TensorShape([]),\n",
       " TensorShape([]),\n",
       " TensorShape([]))"
      ]
     },
     "execution_count": 36,
     "metadata": {},
     "output_type": "execute_result"
    }
   ],
   "source": [
    "dataset.output_shapes[0]"
   ]
  },
  {
   "cell_type": "code",
   "execution_count": 23,
   "metadata": {},
   "outputs": [
    {
     "data": {
      "text/plain": [
       "(tf.float32,\n",
       " tf.float32,\n",
       " tf.float32,\n",
       " tf.float32,\n",
       " tf.float32,\n",
       " tf.float32,\n",
       " tf.float32,\n",
       " tf.float32,\n",
       " tf.float32,\n",
       " tf.float32,\n",
       " tf.float32,\n",
       " tf.float32,\n",
       " tf.float32,\n",
       " tf.float32,\n",
       " tf.float32,\n",
       " tf.float32,\n",
       " tf.float32,\n",
       " tf.float32,\n",
       " tf.float32,\n",
       " tf.float32,\n",
       " tf.float32,\n",
       " tf.float32,\n",
       " tf.float32,\n",
       " tf.float32,\n",
       " tf.string)"
      ]
     },
     "execution_count": 23,
     "metadata": {},
     "output_type": "execute_result"
    }
   ],
   "source": [
    "dataset.output_types"
   ]
  },
  {
   "cell_type": "code",
   "execution_count": null,
   "metadata": {},
   "outputs": [],
   "source": []
  }
 ],
 "metadata": {
  "kernelspec": {
   "display_name": "tf",
   "language": "python",
   "name": "tf"
  },
  "language_info": {
   "codemirror_mode": {
    "name": "ipython",
    "version": 3
   },
   "file_extension": ".py",
   "mimetype": "text/x-python",
   "name": "python",
   "nbconvert_exporter": "python",
   "pygments_lexer": "ipython3",
   "version": "3.6.6"
  }
 },
 "nbformat": 4,
 "nbformat_minor": 2
}
