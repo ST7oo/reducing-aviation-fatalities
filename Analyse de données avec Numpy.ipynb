{
 "cells": [
  {
   "cell_type": "markdown",
   "metadata": {},
   "source": [
    "## Analyse de données avec Numpy\n",
    "\n",
    "### Objectif"
   ]
  },
  {
   "cell_type": "code",
   "execution_count": 121,
   "metadata": {},
   "outputs": [
    {
     "data": {
      "text/plain": [
       "array([['1986', 'Western Pacific', 'Viet Nam', 'Wine', '0'],\n",
       "       ['1986', 'Americas', 'Uruguay', 'Other', '0.5'],\n",
       "       ['1985', 'Africa', \"Cte d'Ivoire\", 'Wine', '1.62'],\n",
       "       ...,\n",
       "       ['1986', 'Europe', 'Switzerland', 'Spirits', '2.54'],\n",
       "       ['1987', 'Western Pacific', 'Papua New Guinea', 'Other', '0'],\n",
       "       ['1986', 'Africa', 'Swaziland', 'Other', '5.15']], dtype='<U75')"
      ]
     },
     "execution_count": 121,
     "metadata": {},
     "output_type": "execute_result"
    }
   ],
   "source": [
    "import numpy as np\n",
    "world_alcohol = np.genfromtxt(\"world-alcohol.csv\", delimiter = \",\", dtype = 'U75', skip_header=1)\n",
    "world_alcohol"
   ]
  },
  {
   "cell_type": "markdown",
   "metadata": {},
   "source": [
    "### Effectuer des comparaison"
   ]
  },
  {
   "cell_type": "code",
   "execution_count": 8,
   "metadata": {},
   "outputs": [],
   "source": [
    "vector = np.array([5,10,15,20])"
   ]
  },
  {
   "cell_type": "code",
   "execution_count": 9,
   "metadata": {},
   "outputs": [
    {
     "data": {
      "text/plain": [
       "array([False,  True, False, False])"
      ]
     },
     "execution_count": 9,
     "metadata": {},
     "output_type": "execute_result"
    }
   ],
   "source": [
    "vector == 10"
   ]
  },
  {
   "cell_type": "code",
   "execution_count": 11,
   "metadata": {},
   "outputs": [],
   "source": [
    "matrix = np.array([[5,10,15],[20,25,30],[35,40,45]])"
   ]
  },
  {
   "cell_type": "code",
   "execution_count": 12,
   "metadata": {},
   "outputs": [
    {
     "data": {
      "text/plain": [
       "array([[False, False, False],\n",
       "       [False,  True, False],\n",
       "       [False, False, False]])"
      ]
     },
     "execution_count": 12,
     "metadata": {},
     "output_type": "execute_result"
    }
   ],
   "source": [
    "matrix == 25"
   ]
  },
  {
   "cell_type": "markdown",
   "metadata": {},
   "source": [
    "- Extraire la 3ème colonne de world_alcohol et comparer la au pays \"Canada\". Assigner le résultat à la variable countries_canada.\n",
    "- Extraire la première colonne de world_alcohol et comparer la à la chaine de caractère \"1984\". Assigner le résultat à la variable years_1984."
   ]
  },
  {
   "cell_type": "code",
   "execution_count": 29,
   "metadata": {},
   "outputs": [],
   "source": [
    " countries_canada = (world_alcohol[:,2] == \"Canada\")"
   ]
  },
  {
   "cell_type": "code",
   "execution_count": 30,
   "metadata": {},
   "outputs": [
    {
     "data": {
      "text/plain": [
       "array([False, False, False, ..., False, False, False])"
      ]
     },
     "execution_count": 30,
     "metadata": {},
     "output_type": "execute_result"
    }
   ],
   "source": [
    "countries_canada"
   ]
  },
  {
   "cell_type": "code",
   "execution_count": 31,
   "metadata": {},
   "outputs": [],
   "source": [
    " years_1984 = (world_alcohol[:,0] == \"1984\")"
   ]
  },
  {
   "cell_type": "code",
   "execution_count": 32,
   "metadata": {},
   "outputs": [
    {
     "data": {
      "text/plain": [
       "array([False, False, False, ..., False, False, False])"
      ]
     },
     "execution_count": 32,
     "metadata": {},
     "output_type": "execute_result"
    }
   ],
   "source": [
    "years_1984"
   ]
  },
  {
   "cell_type": "markdown",
   "metadata": {},
   "source": [
    "### Sélectionner des éléments"
   ]
  },
  {
   "cell_type": "code",
   "execution_count": 34,
   "metadata": {},
   "outputs": [
    {
     "name": "stdout",
     "output_type": "stream",
     "text": [
      "[10]\n"
     ]
    }
   ],
   "source": [
    "vector = np.array([5,10,15,20])\n",
    "equal_to_ten = (vector == 10)\n",
    "print(vector[equal_to_ten])"
   ]
  },
  {
   "cell_type": "code",
   "execution_count": 35,
   "metadata": {},
   "outputs": [
    {
     "data": {
      "text/plain": [
       "array([[ 5, 10, 15],\n",
       "       [20, 25, 30],\n",
       "       [35, 40, 45]])"
      ]
     },
     "execution_count": 35,
     "metadata": {},
     "output_type": "execute_result"
    }
   ],
   "source": [
    "matrix"
   ]
  },
  {
   "cell_type": "code",
   "execution_count": 36,
   "metadata": {},
   "outputs": [
    {
     "name": "stdout",
     "output_type": "stream",
     "text": [
      "[[20 25 30]]\n"
     ]
    }
   ],
   "source": [
    "second_column_25 = (matrix[:,1] == 25)\n",
    "print(matrix[second_column_25,:])"
   ]
  },
  {
   "cell_type": "markdown",
   "metadata": {},
   "source": [
    "- Comparer la 3e colonne de wolrd_alcohol à la chaine de caractère 'Algeria'.\n",
    "- Assigner le résultat à la variable country_is_algeria.\n",
    "- Selectionner seulement les lignes de world_alcohol pour lesquelles country_is_algeria vaut True\n",
    "- Assigner le résultat à la variable country_algeria.\n",
    "- Afficher les résultats.\n",
    "- Faire le même travail pour récupérer toutes les lignes correspondantes à l'année \"1984\".Assigner le résultat à la variable yeards_1984."
   ]
  },
  {
   "cell_type": "code",
   "execution_count": 42,
   "metadata": {},
   "outputs": [],
   "source": [
    "country_is_algeria = (world_alcohol[:,2] == \"Algeria\")"
   ]
  },
  {
   "cell_type": "code",
   "execution_count": 47,
   "metadata": {},
   "outputs": [
    {
     "data": {
      "text/plain": [
       "array([['1984', 'Africa', 'Algeria', 'Spirits', '0.01'],\n",
       "       ['1987', 'Africa', 'Algeria', 'Beer', '0.17'],\n",
       "       ['1987', 'Africa', 'Algeria', 'Spirits', '0.01'],\n",
       "       ['1986', 'Africa', 'Algeria', 'Wine', '0.1'],\n",
       "       ['1984', 'Africa', 'Algeria', 'Other', '0'],\n",
       "       ['1989', 'Africa', 'Algeria', 'Beer', '0.16'],\n",
       "       ['1989', 'Africa', 'Algeria', 'Spirits', '0.01'],\n",
       "       ['1989', 'Africa', 'Algeria', 'Wine', '0.23'],\n",
       "       ['1986', 'Africa', 'Algeria', 'Spirits', '0.01'],\n",
       "       ['1984', 'Africa', 'Algeria', 'Wine', '0.12'],\n",
       "       ['1985', 'Africa', 'Algeria', 'Beer', '0.19'],\n",
       "       ['1985', 'Africa', 'Algeria', 'Other', '0'],\n",
       "       ['1986', 'Africa', 'Algeria', 'Beer', '0.18'],\n",
       "       ['1985', 'Africa', 'Algeria', 'Wine', '0.11'],\n",
       "       ['1986', 'Africa', 'Algeria', 'Other', '0'],\n",
       "       ['1989', 'Africa', 'Algeria', 'Other', '0'],\n",
       "       ['1987', 'Africa', 'Algeria', 'Other', '0'],\n",
       "       ['1984', 'Africa', 'Algeria', 'Beer', '0.2'],\n",
       "       ['1985', 'Africa', 'Algeria', 'Spirits', '0.01'],\n",
       "       ['1987', 'Africa', 'Algeria', 'Wine', '0.1']], dtype='<U75')"
      ]
     },
     "execution_count": 47,
     "metadata": {},
     "output_type": "execute_result"
    }
   ],
   "source": [
    "country_algeria = world_alcohol[country_is_algeria]\n",
    "country_algeria"
   ]
  },
  {
   "cell_type": "code",
   "execution_count": 48,
   "metadata": {},
   "outputs": [
    {
     "data": {
      "text/plain": [
       "array([['1984', 'Africa', 'Nigeria', 'Other', '6.1'],\n",
       "       ['1984', 'Eastern Mediterranean', 'Afghanistan', 'Other', '0'],\n",
       "       ['1984', 'Americas', 'Costa Rica', 'Wine', '0.06'],\n",
       "       ...,\n",
       "       ['1984', 'Europe', 'Latvia', 'Spirits', '7.5'],\n",
       "       ['1984', 'Africa', 'Angola', 'Wine', '0.57'],\n",
       "       ['1984', 'Africa', 'Central African Republic', 'Wine', '0.46']],\n",
       "      dtype='<U75')"
      ]
     },
     "execution_count": 48,
     "metadata": {},
     "output_type": "execute_result"
    }
   ],
   "source": [
    "yeards_is_1984 = (world_alcohol[:,0] == \"1984\")\n",
    "yeards_1984 = world_alcohol[yeards_is_1984]\n",
    "yeards_1984"
   ]
  },
  {
   "cell_type": "markdown",
   "metadata": {},
   "source": [
    "### Effectuer des comparaisons avec plusieurs conditions"
   ]
  },
  {
   "cell_type": "code",
   "execution_count": 49,
   "metadata": {},
   "outputs": [
    {
     "data": {
      "text/plain": [
       "array([ 5, 10, 15, 20])"
      ]
     },
     "execution_count": 49,
     "metadata": {},
     "output_type": "execute_result"
    }
   ],
   "source": [
    "vector"
   ]
  },
  {
   "cell_type": "code",
   "execution_count": 52,
   "metadata": {},
   "outputs": [
    {
     "name": "stdout",
     "output_type": "stream",
     "text": [
      "[ True  True False False]\n"
     ]
    }
   ],
   "source": [
    "equal_to_ten_and_five = (vector == 10) & (vector == 5)\n",
    "print(equal_to_ten_and_five)"
   ]
  },
  {
   "cell_type": "code",
   "execution_count": 53,
   "metadata": {},
   "outputs": [
    {
     "name": "stdout",
     "output_type": "stream",
     "text": [
      "[ True  True False False]\n"
     ]
    }
   ],
   "source": [
    "equal_to_ten_or_five = (vector == 10) | (vector == 5)\n",
    "print(equal_to_ten_or_five)"
   ]
  },
  {
   "cell_type": "markdown",
   "metadata": {},
   "source": [
    "- Selectionner les lignes dont le pays est 'Algeria' et l'année '1986':\n",
    "    - Créer cette double comparaison et assigner le résultat à la variable is_algeria_and_1986.\n",
    "    - Utiliser is_algeria_and_1986 pour sélectionner les lignes correspondantes dans le tableau wold_alcohol.\n",
    "    - Assigner le résultat à la variable rows_with_algeria_and_1986.\n",
    "    - Afficher le résultat."
   ]
  },
  {
   "cell_type": "code",
   "execution_count": 54,
   "metadata": {},
   "outputs": [],
   "source": [
    "is_algeria_and_1986 = (world_alcohol[:,2] == \"Algeria\") & (world_alcohol[:,0] == \"1986\")"
   ]
  },
  {
   "cell_type": "code",
   "execution_count": 55,
   "metadata": {},
   "outputs": [],
   "source": [
    "rows_with_algeria_and_1986 = world_alcohol[is_algeria_and_1986]"
   ]
  },
  {
   "cell_type": "code",
   "execution_count": 56,
   "metadata": {},
   "outputs": [
    {
     "name": "stdout",
     "output_type": "stream",
     "text": [
      "[['1986' 'Africa' 'Algeria' 'Wine' '0.1']\n",
      " ['1986' 'Africa' 'Algeria' 'Spirits' '0.01']\n",
      " ['1986' 'Africa' 'Algeria' 'Beer' '0.18']\n",
      " ['1986' 'Africa' 'Algeria' 'Other' '0']]\n"
     ]
    }
   ],
   "source": [
    "print (rows_with_algeria_and_1986)"
   ]
  },
  {
   "cell_type": "markdown",
   "metadata": {},
   "source": [
    "### Remplacer des valeurs dans un tableau Numpy"
   ]
  },
  {
   "cell_type": "code",
   "execution_count": 57,
   "metadata": {},
   "outputs": [
    {
     "data": {
      "text/plain": [
       "array([ 5, 10, 15, 20])"
      ]
     },
     "execution_count": 57,
     "metadata": {},
     "output_type": "execute_result"
    }
   ],
   "source": [
    "vector"
   ]
  },
  {
   "cell_type": "code",
   "execution_count": 58,
   "metadata": {},
   "outputs": [
    {
     "name": "stdout",
     "output_type": "stream",
     "text": [
      "[ True  True False False]\n"
     ]
    }
   ],
   "source": [
    "equal_to_ten_or_five = (vector == 10) | (vector == 5)\n",
    "print(equal_to_ten_or_five)"
   ]
  },
  {
   "cell_type": "code",
   "execution_count": 59,
   "metadata": {},
   "outputs": [
    {
     "name": "stdout",
     "output_type": "stream",
     "text": [
      "[50 50 15 20]\n"
     ]
    }
   ],
   "source": [
    "vector[equal_to_ten_or_five] = 50\n",
    "print(vector)"
   ]
  },
  {
   "cell_type": "code",
   "execution_count": 60,
   "metadata": {},
   "outputs": [
    {
     "data": {
      "text/plain": [
       "array([[ 5, 10, 15],\n",
       "       [20, 25, 30],\n",
       "       [35, 40, 45]])"
      ]
     },
     "execution_count": 60,
     "metadata": {},
     "output_type": "execute_result"
    }
   ],
   "source": [
    "matrix"
   ]
  },
  {
   "cell_type": "code",
   "execution_count": 61,
   "metadata": {},
   "outputs": [
    {
     "name": "stdout",
     "output_type": "stream",
     "text": [
      "[False  True False]\n"
     ]
    }
   ],
   "source": [
    "second_column_25 = matrix[:,1]== 25\n",
    "print(second_column_25)"
   ]
  },
  {
   "cell_type": "code",
   "execution_count": 62,
   "metadata": {},
   "outputs": [
    {
     "name": "stdout",
     "output_type": "stream",
     "text": [
      "[[ 5 10 15]\n",
      " [20 10 30]\n",
      " [35 40 45]]\n"
     ]
    }
   ],
   "source": [
    "matrix[second_column_25,1] =10\n",
    "print(matrix)"
   ]
  },
  {
   "cell_type": "markdown",
   "metadata": {},
   "source": [
    "- Creer un tableau numpy world_alcohol_2 égal world_alcohol pour le dupliquer sous un autre nom.\n",
    "- Remplacer toutes les années \"1986\" de la première colonne de world_alcohol_2 par \"2018\"\n",
    "- Remplacer tous les alcools \"Wine\" de la 4e colonne de world_alcohol_2 par \"Beer\"."
   ]
  },
  {
   "cell_type": "code",
   "execution_count": 63,
   "metadata": {},
   "outputs": [],
   "source": [
    "world_alcohol_2 = world_alcohol"
   ]
  },
  {
   "cell_type": "code",
   "execution_count": 64,
   "metadata": {},
   "outputs": [],
   "source": [
    "world_alcohol_2_1986 = world_alcohol_2[:,0] == '1986'"
   ]
  },
  {
   "cell_type": "code",
   "execution_count": 65,
   "metadata": {},
   "outputs": [
    {
     "name": "stdout",
     "output_type": "stream",
     "text": [
      "[['2018' 'Western Pacific' 'Viet Nam' 'Wine' '0']\n",
      " ['2018' 'Americas' 'Uruguay' 'Other' '0.5']\n",
      " ['1985' 'Africa' \"Cte d'Ivoire\" 'Wine' '1.62']\n",
      " ...\n",
      " ['2018' 'Europe' 'Switzerland' 'Spirits' '2.54']\n",
      " ['1987' 'Western Pacific' 'Papua New Guinea' 'Other' '0']\n",
      " ['2018' 'Africa' 'Swaziland' 'Other' '5.15']]\n"
     ]
    }
   ],
   "source": [
    "world_alcohol_2[world_alcohol_2_1986,0]= '2018'\n",
    "print(world_alcohol_2)"
   ]
  },
  {
   "cell_type": "code",
   "execution_count": 67,
   "metadata": {},
   "outputs": [],
   "source": [
    "world_alcohol_2_wine = world_alcohol_2[:,3] == 'Wine'"
   ]
  },
  {
   "cell_type": "code",
   "execution_count": 68,
   "metadata": {},
   "outputs": [
    {
     "name": "stdout",
     "output_type": "stream",
     "text": [
      "[['2018' 'Western Pacific' 'Viet Nam' 'Beer' '0']\n",
      " ['2018' 'Americas' 'Uruguay' 'Other' '0.5']\n",
      " ['1985' 'Africa' \"Cte d'Ivoire\" 'Beer' '1.62']\n",
      " ...\n",
      " ['2018' 'Europe' 'Switzerland' 'Spirits' '2.54']\n",
      " ['1987' 'Western Pacific' 'Papua New Guinea' 'Other' '0']\n",
      " ['2018' 'Africa' 'Swaziland' 'Other' '5.15']]\n"
     ]
    }
   ],
   "source": [
    "world_alcohol_2[world_alcohol_2_wine,3]= 'Beer'\n",
    "print(world_alcohol_2)"
   ]
  },
  {
   "cell_type": "markdown",
   "metadata": {},
   "source": [
    "### Remplacer les chaines de caractères vides"
   ]
  },
  {
   "cell_type": "markdown",
   "metadata": {},
   "source": [
    "- Comparer tous les éléments de la 5e colonne de world_alcohol avec la chaine de caractères vide c-a-d ''. Assigner le résultat à la variable is_value_empty.\n",
    "- Selectionner toutes les valeurs de la 5e colonnes de world_alcohol pour lesquels is_value_empty est égal à True et enfin les remplacer par la chainde caractère '0'."
   ]
  },
  {
   "cell_type": "code",
   "execution_count": 69,
   "metadata": {},
   "outputs": [],
   "source": [
    "is_value_empty = world_alcohol[:,4] == ''"
   ]
  },
  {
   "cell_type": "code",
   "execution_count": 70,
   "metadata": {},
   "outputs": [],
   "source": [
    "world_alcohol[is_value_empty,4] = '0'"
   ]
  },
  {
   "cell_type": "code",
   "execution_count": 71,
   "metadata": {},
   "outputs": [
    {
     "data": {
      "text/plain": [
       "array([['2018', 'Western Pacific', 'Viet Nam', 'Beer', '0'],\n",
       "       ['2018', 'Americas', 'Uruguay', 'Other', '0.5'],\n",
       "       ['1985', 'Africa', \"Cte d'Ivoire\", 'Beer', '1.62'],\n",
       "       ...,\n",
       "       ['2018', 'Europe', 'Switzerland', 'Spirits', '2.54'],\n",
       "       ['1987', 'Western Pacific', 'Papua New Guinea', 'Other', '0'],\n",
       "       ['2018', 'Africa', 'Swaziland', 'Other', '5.15']], dtype='<U75')"
      ]
     },
     "execution_count": 71,
     "metadata": {},
     "output_type": "execute_result"
    }
   ],
   "source": [
    "world_alcohol"
   ]
  },
  {
   "cell_type": "markdown",
   "metadata": {},
   "source": [
    "### Convertir des types de données "
   ]
  },
  {
   "cell_type": "markdown",
   "metadata": {},
   "source": [
    "- Extraire la 5e colonne de worl_alcohol et assigner le résultat à la variable alcohol_consumption.\n",
    "- Utiliser la méthode astype() pour convertir alcohol_consumption en décimal (float)."
   ]
  },
  {
   "cell_type": "code",
   "execution_count": 72,
   "metadata": {},
   "outputs": [],
   "source": [
    "alcohol_consumption = world_alcohol[:,4]"
   ]
  },
  {
   "cell_type": "code",
   "execution_count": 73,
   "metadata": {},
   "outputs": [],
   "source": [
    "alcohol_consumption = alcohol_consumption.astype(float)"
   ]
  },
  {
   "cell_type": "code",
   "execution_count": 74,
   "metadata": {},
   "outputs": [
    {
     "data": {
      "text/plain": [
       "array([0.  , 0.5 , 1.62, ..., 2.54, 0.  , 5.15])"
      ]
     },
     "execution_count": 74,
     "metadata": {},
     "output_type": "execute_result"
    }
   ],
   "source": [
    "alcohol_consumption"
   ]
  },
  {
   "cell_type": "markdown",
   "metadata": {},
   "source": [
    "### Realisation des calculs mathématiques avec Numpy"
   ]
  },
  {
   "cell_type": "code",
   "execution_count": 76,
   "metadata": {},
   "outputs": [],
   "source": [
    "vector = np.array([5,10,15,20])"
   ]
  },
  {
   "cell_type": "code",
   "execution_count": 77,
   "metadata": {},
   "outputs": [
    {
     "data": {
      "text/plain": [
       "50"
      ]
     },
     "execution_count": 77,
     "metadata": {},
     "output_type": "execute_result"
    }
   ],
   "source": [
    "vector.sum()"
   ]
  },
  {
   "cell_type": "code",
   "execution_count": 78,
   "metadata": {},
   "outputs": [
    {
     "data": {
      "text/plain": [
       "12.5"
      ]
     },
     "execution_count": 78,
     "metadata": {},
     "output_type": "execute_result"
    }
   ],
   "source": [
    "vector.mean()"
   ]
  },
  {
   "cell_type": "code",
   "execution_count": 79,
   "metadata": {},
   "outputs": [
    {
     "data": {
      "text/plain": [
       "20"
      ]
     },
     "execution_count": 79,
     "metadata": {},
     "output_type": "execute_result"
    }
   ],
   "source": [
    "vector.max()"
   ]
  },
  {
   "cell_type": "code",
   "execution_count": 81,
   "metadata": {},
   "outputs": [],
   "source": [
    "matrix = np.array([[5,10,15],[20,25,30],[35,40,45]])"
   ]
  },
  {
   "cell_type": "code",
   "execution_count": 82,
   "metadata": {},
   "outputs": [
    {
     "data": {
      "text/plain": [
       "array([ 30,  75, 120])"
      ]
     },
     "execution_count": 82,
     "metadata": {},
     "output_type": "execute_result"
    }
   ],
   "source": [
    "matrix.sum(axis=1)"
   ]
  },
  {
   "cell_type": "markdown",
   "metadata": {},
   "source": [
    "matrix.sum(axis=0)"
   ]
  },
  {
   "cell_type": "code",
   "execution_count": 83,
   "metadata": {},
   "outputs": [
    {
     "data": {
      "text/plain": [
       "array([60, 75, 90])"
      ]
     },
     "execution_count": 83,
     "metadata": {},
     "output_type": "execute_result"
    }
   ],
   "source": [
    "matrix.sum(axis=0)"
   ]
  },
  {
   "cell_type": "markdown",
   "metadata": {},
   "source": [
    "- Utiliser la méthode sum() pour calculer la somme des valeurs de alcohol_consumption. Assigner le résultat à la variable total_alcohol.\n",
    "- Utiliser la méthode mean() pour calculer la moyenne des valeurs de alcohol_consumption.Assigner le résultat à la variable averag_alcohol.\n",
    "- Afficher les résultats."
   ]
  },
  {
   "cell_type": "code",
   "execution_count": 85,
   "metadata": {},
   "outputs": [],
   "source": [
    "total_alcohol = alcohol_consumption.sum()\n",
    "average_alcohol = alcohol_consumption.mean()"
   ]
  },
  {
   "cell_type": "code",
   "execution_count": 86,
   "metadata": {},
   "outputs": [
    {
     "name": "stdout",
     "output_type": "stream",
     "text": [
      "3908.96\n",
      "1.2001719373656738\n"
     ]
    }
   ],
   "source": [
    "print (total_alcohol)\n",
    "print (average_alcohol)"
   ]
  },
  {
   "cell_type": "markdown",
   "metadata": {},
   "source": [
    "### Calculer la consommation total annuelle par habitant pour un pays donné"
   ]
  },
  {
   "cell_type": "code",
   "execution_count": 87,
   "metadata": {},
   "outputs": [
    {
     "name": "stdout",
     "output_type": "stream",
     "text": [
      "[['1984' 'Americas' 'Canada' 'Spirits' '3.35']\n",
      " ['1989' 'Americas' 'Canada' 'Beer' '1.27']\n",
      " ['1984' 'Americas' 'Canada' 'Beer' '5']\n",
      " ['1985' 'Americas' 'Canada' 'Beer' '4.94']\n",
      " ['1987' 'Americas' 'Canada' 'Beer' '1.3']\n",
      " ['1987' 'Americas' 'Canada' 'Beer' '4.83']\n",
      " ['2018' 'Americas' 'Canada' 'Other' '0']\n",
      " ['2018' 'Americas' 'Canada' 'Spirits' '3.11']\n",
      " ['1985' 'Americas' 'Canada' 'Spirits' '3.21']\n",
      " ['1985' 'Americas' 'Canada' 'Other' '0']\n",
      " ['2018' 'Americas' 'Canada' 'Beer' '4.87']\n",
      " ['1984' 'Americas' 'Canada' 'Beer' '1.24']\n",
      " ['1989' 'Americas' 'Canada' 'Spirits' '2.91']\n",
      " ['1984' 'Americas' 'Canada' 'Other' '0']\n",
      " ['1985' 'Americas' 'Canada' 'Beer' '1.29']\n",
      " ['1987' 'Americas' 'Canada' 'Spirits' '2.99']\n",
      " ['1989' 'Americas' 'Canada' 'Beer' '4.82']\n",
      " ['1989' 'Americas' 'Canada' 'Other' '0']\n",
      " ['2018' 'Americas' 'Canada' 'Beer' '1.33']\n",
      " ['1987' 'Americas' 'Canada' 'Other' '0']]\n"
     ]
    }
   ],
   "source": [
    "print(world_alcohol[world_alcohol[:,2]== 'Canada'])"
   ]
  },
  {
   "cell_type": "markdown",
   "metadata": {},
   "source": [
    "- Créer une matrice qu'on nommera canada_1986 qui contient toutes les lignes de world_alcohol correspondant à l'année '1986' et au pays 'Canada'.\n",
    "- Extraire la 5e colonne de canada_1986, remplacer toute chaine de caractère vide ('') par '0' et convertir la colonne en décimal(float). Assigner le résultat à la variable canda_alcohol.\n",
    "- Calculer ma somme canada_alcohol. Assigner le résultat à la variable total_canadian_drinking.\n",
    "- Afficher le résultat."
   ]
  },
  {
   "cell_type": "code",
   "execution_count": 136,
   "metadata": {},
   "outputs": [],
   "source": [
    "canada_1986 = world_alcohol[(world_alcohol[:,2]== 'Canada') & (world_alcohol[:,0]== '1986')]"
   ]
  },
  {
   "cell_type": "code",
   "execution_count": 137,
   "metadata": {},
   "outputs": [],
   "source": [
    "canada_1986[canada_1986[:,4] == '',4]= '0'"
   ]
  },
  {
   "cell_type": "code",
   "execution_count": 138,
   "metadata": {},
   "outputs": [],
   "source": [
    "canada_alcohol=canada_1986[:,4]"
   ]
  },
  {
   "cell_type": "code",
   "execution_count": 139,
   "metadata": {},
   "outputs": [
    {
     "data": {
      "text/plain": [
       "array(['0', '3.11', '4.87', '1.33'], dtype='<U75')"
      ]
     },
     "execution_count": 139,
     "metadata": {},
     "output_type": "execute_result"
    }
   ],
   "source": [
    "canada_alcohol"
   ]
  },
  {
   "cell_type": "code",
   "execution_count": 140,
   "metadata": {},
   "outputs": [],
   "source": [
    "canada_alcohol = canada_alcohol.astype(float)"
   ]
  },
  {
   "cell_type": "code",
   "execution_count": 141,
   "metadata": {},
   "outputs": [],
   "source": [
    "total_canadian_drinking = canada_alcohol.sum()"
   ]
  },
  {
   "cell_type": "code",
   "execution_count": 142,
   "metadata": {},
   "outputs": [
    {
     "data": {
      "text/plain": [
       "9.31"
      ]
     },
     "execution_count": 142,
     "metadata": {},
     "output_type": "execute_result"
    }
   ],
   "source": [
    "total_canadian_drinking"
   ]
  },
  {
   "cell_type": "markdown",
   "metadata": {},
   "source": [
    "### Calculer la consommation pour chaque pays"
   ]
  },
  {
   "cell_type": "markdown",
   "metadata": {},
   "source": [
    "- Tout d'abord, on crée un dictionnaire vide qui va contenir tous les pays et leurs consommatoins d'alcool associées, on le nommera totals.\n",
    "- Sélectionner ensuite le lignes de world-alcohol corrspondant à l'année donnée, disons 1989. Assigner le résultat à la variable year.\n",
    "- Selectionner dans une liste qu'on nommera countries tous les pays.\n",
    "- Parcourir tous les pays de la liste à l'aide d'une boucle.Pour chaque pays :\n",
    "    - Selectionner les lignes de year correspondant à ce pays.\n",
    "    - Assigner le résultat à la variable country_consumption.\n",
    "    - Extraire la 5e colonne de country_consumption.\n",
    "    - Remplacer toute chaine de caractère vide dans cette colonne par 0.\n",
    "    - Convertir la colonne en décimal (float).\n",
    "    - Calculer la somme de la colonne.\n",
    "    - Ajouter la somme au dictionnaire totals, avec comme clé le nom du pays et en valeur cette somme.\n",
    "- Afficher le dictionnaire totals."
   ]
  },
  {
   "cell_type": "code",
   "execution_count": 143,
   "metadata": {},
   "outputs": [
    {
     "data": {
      "text/plain": [
       "array([['1986', 'Western Pacific', 'Viet Nam', 'Wine', '0'],\n",
       "       ['1986', 'Americas', 'Uruguay', 'Other', '0.5'],\n",
       "       ['1985', 'Africa', \"Cte d'Ivoire\", 'Wine', '1.62'],\n",
       "       ...,\n",
       "       ['1986', 'Europe', 'Switzerland', 'Spirits', '2.54'],\n",
       "       ['1987', 'Western Pacific', 'Papua New Guinea', 'Other', '0'],\n",
       "       ['1986', 'Africa', 'Swaziland', 'Other', '5.15']], dtype='<U75')"
      ]
     },
     "execution_count": 143,
     "metadata": {},
     "output_type": "execute_result"
    }
   ],
   "source": [
    "import numpy as np\n",
    "world_alcohol = np.genfromtxt(\"world-alcohol.csv\", delimiter = \",\", dtype = 'U75', skip_header=1)\n",
    "world_alcohol"
   ]
  },
  {
   "cell_type": "code",
   "execution_count": 154,
   "metadata": {},
   "outputs": [],
   "source": [
    "totals = {} "
   ]
  },
  {
   "cell_type": "code",
   "execution_count": 155,
   "metadata": {},
   "outputs": [],
   "source": [
    "year = world_alcohol[world_alcohol[:,0] == '1989',:]"
   ]
  },
  {
   "cell_type": "code",
   "execution_count": 163,
   "metadata": {},
   "outputs": [],
   "source": [
    "countries = world_alcohol[:,2]"
   ]
  },
  {
   "cell_type": "code",
   "execution_count": 164,
   "metadata": {},
   "outputs": [
    {
     "data": {
      "text/plain": [
       "array(['Viet Nam', 'Uruguay', \"Cte d'Ivoire\", ..., 'Switzerland',\n",
       "       'Papua New Guinea', 'Swaziland'], dtype='<U75')"
      ]
     },
     "execution_count": 164,
     "metadata": {},
     "output_type": "execute_result"
    }
   ],
   "source": [
    "countries"
   ]
  },
  {
   "cell_type": "code",
   "execution_count": 172,
   "metadata": {},
   "outputs": [],
   "source": [
    "for country in countries :\n",
    "    is_country = year[:,2] == country\n",
    "    country_consumption = year[is_country,:]\n",
    "    alcohol_column = country_consumption[:,4]\n",
    "    is_empty = alcohol_column == ''\n",
    "    alcohol_column[is_empty] = '0'\n",
    "    alcohol_column = alcohol_column.astype(float)\n",
    "    totals[country] = alcohol_column.sum()\n"
   ]
  },
  {
   "cell_type": "code",
   "execution_count": 173,
   "metadata": {},
   "outputs": [
    {
     "data": {
      "text/plain": [
       "{'Viet Nam': 0.16,\n",
       " 'Uruguay': 7.4399999999999995,\n",
       " \"Cte d'Ivoire\": 2.2,\n",
       " 'Colombia': 6.960000000000001,\n",
       " 'Saint Kitts and Nevis': 4.65,\n",
       " 'Guatemala': 2.47,\n",
       " 'Mauritius': 3.54,\n",
       " 'Angola': 2.28,\n",
       " 'Antigua and Barbuda': 4.69,\n",
       " 'Nigeria': 6.74,\n",
       " 'Botswana': 4.63,\n",
       " \"Lao People's Democratic Republic\": 5.95,\n",
       " 'Afghanistan': 0.0,\n",
       " 'Guinea-Bissau': 2.67,\n",
       " 'Costa Rica': 5.3999999999999995,\n",
       " 'Seychelles': 3.3000000000000003,\n",
       " 'Norway': 5.08,\n",
       " 'Kenya': 2.82,\n",
       " 'Myanmar': 0.16,\n",
       " 'Romania': 8.41,\n",
       " 'Turkey': 0.72,\n",
       " 'Comoros': 0.10999999999999999,\n",
       " 'Tunisia': 0.95,\n",
       " 'United Kingdom of Great Britain and Northern Ireland': 9.99,\n",
       " 'Bahrain': 4.89,\n",
       " 'Italy': 10.899999999999999,\n",
       " 'Sierra Leone': 4.380000000000001,\n",
       " 'Micronesia (Federated States of)': 0.0,\n",
       " 'Mauritania': 0.02,\n",
       " 'Russian Federation': 5.35,\n",
       " 'Egypt': 0.42000000000000004,\n",
       " 'Sweden': 7.47,\n",
       " 'Qatar': 1.4500000000000002,\n",
       " 'Burkina Faso': 3.99,\n",
       " 'Austria': 13.9,\n",
       " 'Czech Republic': 13.009999999999998,\n",
       " 'Ukraine': 5.32,\n",
       " 'China': 3.33,\n",
       " 'Lithuania': 0.0,\n",
       " 'Zimbabwe': 4.92,\n",
       " 'Trinidad and Tobago': 4.68,\n",
       " 'Mexico': 5.1,\n",
       " 'Nicaragua': 2.5,\n",
       " 'Malta': 7.13,\n",
       " 'Switzerland': 13.849999999999998,\n",
       " 'Finland': 9.419999999999998,\n",
       " 'Saudi Arabia': 0.15,\n",
       " 'Kuwait': 0.0,\n",
       " 'El Salvador': 1.77,\n",
       " 'Suriname': 3.67,\n",
       " 'Croatia': 10.92,\n",
       " 'Somalia': 0.0,\n",
       " 'Syrian Arab Republic': 0.54,\n",
       " 'Iran (Islamic Republic of)': 0.0,\n",
       " 'Papua New Guinea': 1.1099999999999999,\n",
       " 'Libya': 0.0,\n",
       " 'Bolivia (Plurinational State of)': 3.05,\n",
       " 'Iraq': 0.75,\n",
       " 'Namibia': 0.24,\n",
       " 'Uganda': 7.8,\n",
       " 'Togo': 2.2199999999999998,\n",
       " 'Madagascar': 1.38,\n",
       " 'Mali': 0.6699999999999999,\n",
       " 'Pakistan': 0.02,\n",
       " 'Cameroon': 6.359999999999999,\n",
       " 'Jamaica': 3.03,\n",
       " 'Malawi': 1.02,\n",
       " 'Netherlands': 10.030000000000001,\n",
       " 'Ireland': 11.79,\n",
       " 'Sri Lanka': 0.14,\n",
       " 'Democratic Republic of the Congo': 1.92,\n",
       " 'Bahamas': 12.290000000000001,\n",
       " 'Lebanon': 3.94,\n",
       " 'Bulgaria': 11.43,\n",
       " 'Eritrea': 0.29,\n",
       " 'Niger': 0.11,\n",
       " 'Luxembourg': 15.21,\n",
       " 'Indonesia': 0.07,\n",
       " 'Equatorial Guinea': 6.49,\n",
       " \"Democratic People's Republic of Korea\": 3.6799999999999997,\n",
       " 'Chile': 8.649999999999999,\n",
       " 'Central African Republic': 2.5199999999999996,\n",
       " 'Spain': 13.280000000000001,\n",
       " 'Gambia': 1.6300000000000001,\n",
       " 'Ghana': 1.8599999999999999,\n",
       " 'Brazil': 5.52,\n",
       " 'Portugal': 15.350000000000001,\n",
       " 'Burundi': 8.159999999999998,\n",
       " 'Belgium': 11.61,\n",
       " 'Paraguay': 6.51,\n",
       " 'Hungary': 16.29,\n",
       " 'Greece': 10.15,\n",
       " 'India': 1.66,\n",
       " 'Kyrgyzstan': 4.279999999999999,\n",
       " 'France': 16.05,\n",
       " 'Zambia': 3.37,\n",
       " 'Israel': 2.0300000000000002,\n",
       " 'Swaziland': 6.68,\n",
       " 'Canada': 9.0,\n",
       " 'Cambodia': 0.33,\n",
       " 'Cabo Verde': 2.79,\n",
       " 'United Arab Emirates': 4.43,\n",
       " 'Peru': 4.99,\n",
       " 'Solomon Islands': 0.5800000000000001,\n",
       " 'United Republic of Tanzania': 5.9,\n",
       " 'Chad': 0.30000000000000004,\n",
       " 'Cuba': 4.37,\n",
       " 'Guyana': 9.940000000000001,\n",
       " 'Mongolia': 2.59,\n",
       " 'Australia': 12.09,\n",
       " 'Sao Tome and Principe': 2.57,\n",
       " 'Slovenia': 12.969999999999999,\n",
       " 'Benin': 1.3800000000000001,\n",
       " 'Algeria': 0.4,\n",
       " 'Venezuela (Bolivarian Republic of)': 7.87,\n",
       " 'Ecuador': 2.54,\n",
       " 'Iceland': 5.359999999999999,\n",
       " 'Liberia': 5.61,\n",
       " 'Yemen': 0.2,\n",
       " 'Sudan': 0.15,\n",
       " 'Belarus': 7.9799999999999995,\n",
       " 'Cyprus': 9.29,\n",
       " 'United States of America': 9.16,\n",
       " 'Vanuatu': 1.74,\n",
       " 'Bangladesh': 0.0,\n",
       " 'Philippines': 3.78,\n",
       " 'Slovakia': 12.700000000000001,\n",
       " 'Poland': 9.33,\n",
       " 'Senegal': 0.6100000000000001,\n",
       " 'Honduras': 2.15,\n",
       " 'Bhutan': 0.31,\n",
       " 'Fiji': 1.9600000000000002,\n",
       " 'Belize': 0.0,\n",
       " 'Lesotho': 2.02,\n",
       " 'Singapore': 1.61,\n",
       " 'Guinea': 0.21,\n",
       " 'Brunei Darussalam': 2.7800000000000002,\n",
       " 'Congo': 3.1500000000000004,\n",
       " 'Thailand': 3.92,\n",
       " 'Djibouti': 0.87,\n",
       " 'Gabon': 9.34,\n",
       " 'Dominican Republic': 4.53,\n",
       " 'Morocco': 0.7,\n",
       " 'New Zealand': 11.52,\n",
       " 'Denmark': 11.649999999999999,\n",
       " 'Samoa': 2.63,\n",
       " 'Argentina': 10.82,\n",
       " 'Oman': 1.03,\n",
       " 'Kiribati': 0.48,\n",
       " 'Albania': 1.73,\n",
       " 'Nepal': 0.03,\n",
       " 'Malaysia': 0.68,\n",
       " 'Latvia': 7.039999999999999,\n",
       " 'Haiti': 5.81,\n",
       " 'South Africa': 9.21,\n",
       " 'Republic of Korea': 9.620000000000001,\n",
       " 'Japan': 7.74,\n",
       " 'Mozambique': 0.39,\n",
       " 'Ethiopia': 0.8600000000000001,\n",
       " 'Panama': 4.6000000000000005,\n",
       " 'Germany': 14.64,\n",
       " 'Saint Lucia': 11.62,\n",
       " 'Rwanda': 7.549999999999999,\n",
       " 'Jordan': 0.19}"
      ]
     },
     "execution_count": 173,
     "metadata": {},
     "output_type": "execute_result"
    }
   ],
   "source": [
    "totals"
   ]
  },
  {
   "cell_type": "markdown",
   "metadata": {},
   "source": [
    "### Trouver le pays qui consomme le plus d'alcool"
   ]
  },
  {
   "cell_type": "markdown",
   "metadata": {},
   "source": [
    "- Créer une variable highest_value qui gardera en mémoire la plus grande valeur du dictionnaire totals. On la fixe à 0 pour commencer.\n",
    "- Créer une variable similaire qu'on nommera highest_key qui gardera en mémoire le nom du pays associé à la plus grande valeur. On la fixe à la valeur None.\n",
    "- Parcourir chaque pays du dictionnaire totals :\n",
    "    - Si la valeur associée au pays est plus grande que highest_value, assigner la valeur en question à la variable et assigner la clé correspondante (nom du pays) à la variable highest_key.\n",
    "- Afficher le pays qui consomme le plus d'alcool ( variable highest_key)"
   ]
  },
  {
   "cell_type": "code",
   "execution_count": 184,
   "metadata": {},
   "outputs": [],
   "source": [
    "highest_value = 0\n",
    "highest_key = 'None'"
   ]
  },
  {
   "cell_type": "code",
   "execution_count": 188,
   "metadata": {},
   "outputs": [],
   "source": [
    "for country in totals :\n",
    "    if totals[country] > highest_value :\n",
    "        highest_value = totals[country]\n",
    "        highest_key = country\n",
    "            "
   ]
  },
  {
   "cell_type": "code",
   "execution_count": 189,
   "metadata": {},
   "outputs": [
    {
     "name": "stdout",
     "output_type": "stream",
     "text": [
      "Hungary\n"
     ]
    }
   ],
   "source": [
    "print (highest_key)"
   ]
  },
  {
   "cell_type": "code",
   "execution_count": null,
   "metadata": {},
   "outputs": [],
   "source": []
  }
 ],
 "metadata": {
  "kernelspec": {
   "display_name": "Python 3",
   "language": "python",
   "name": "python3"
  },
  "language_info": {
   "codemirror_mode": {
    "name": "ipython",
    "version": 3
   },
   "file_extension": ".py",
   "mimetype": "text/x-python",
   "name": "python",
   "nbconvert_exporter": "python",
   "pygments_lexer": "ipython3",
   "version": "3.7.1"
  }
 },
 "nbformat": 4,
 "nbformat_minor": 2
}
